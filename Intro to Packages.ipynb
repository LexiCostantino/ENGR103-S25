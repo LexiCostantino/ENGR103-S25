{
 "cells": [
  {
   "cell_type": "markdown",
   "id": "e2e1dd7e-ab2d-486e-bf62-bdac80cf3230",
   "metadata": {},
   "source": [
    "# Packages --- numpy and matplotlib.pyplot\n",
    "\n",
    "In principle, everything that you could ever hope to do in Python can be created from the tools we have discussed thus far. \n",
    "\n",
    "In practice, however, there are many tools that people have created that would be very complicated to recreate from scratch. It simply wouldn't be practical for you to recreate all of these tools. Hence, there are \"packages\" which neatly package these tools for your use. \n",
    "\n",
    "You can think of packages as being a set of supplemental functions that are pre-defined for your use and are ready to go. Packages may also contain new data types (different than int, string, list, etc) defined within them. \n",
    "\n",
    "To tell Python that you would like to use all of the functions defined within a particular package, you need to \"import\" the package. We do this with:"
   ]
  },
  {
   "cell_type": "code",
   "execution_count": 3,
   "id": "0b1a989b-78ed-4139-bf08-402e7dd27e7f",
   "metadata": {},
   "outputs": [],
   "source": [
    "import numpy "
   ]
  },
  {
   "cell_type": "markdown",
   "id": "11da5820-f6ae-44c8-b67d-3ed8c450ed1d",
   "metadata": {},
   "source": [
    "Numpy, or \"numerical Python\" is a very useful package/library to use in Python. {https://numpy.org/doc/2.2/user/whatisnumpy.html}[https://numpy.org/doc/2.2/user/whatisnumpy.html] puts it best:\n",
    "\n",
    "_\"NumPy is the fundamental package for scientific computing in Python. It is a Python library that provides a multidimensional array object, various derived objects (such as masked arrays and matrices), and an assortment of routines for fast operations on arrays, including mathematical, logical, shape manipulation, sorting, selecting, I/O, discrete Fourier transforms, basic linear algebra, basic statistical operations, random simulation and much more.\"_\n",
    "\n",
    "Once imported, we can call various pre-defined functions within its library. For example:"
   ]
  },
  {
   "cell_type": "code",
   "execution_count": 4,
   "id": "3862f02b-be5c-4158-9535-653d7a5cb9f0",
   "metadata": {},
   "outputs": [
    {
     "name": "stdout",
     "output_type": "stream",
     "text": [
      "3.141592653589793\n"
     ]
    }
   ],
   "source": [
    "print(numpy.pi)"
   ]
  },
  {
   "cell_type": "markdown",
   "id": "f70de0d4-598d-40ce-9307-ef972a4af709",
   "metadata": {},
   "source": [
    "Functions taken from numpy are called by using the ```numpy.``` prefix. ```numpy.pi``` is a function that takes 0 inputs and always returns the value of $\\pi$.\n",
    "\n",
    "#### Aside: Numpy Documentation\n",
    "\n",
    "Documentation for the functions and data structures within numpy can be found at the following link {https://numpy.org/doc/}[https://numpy.org/doc/] or by Googling \"Numpy Documentation\". \n",
    "\n",
    "#### Aside: Laziness \n",
    "\n",
    "```numpy.this```, ```numpy.that```, ```numpy.here```, ```numpy.there```, ```numpy.everywhere```...\n",
    "\n",
    "It's a pain to write numpy hundreds of times. Hence, if we'd like to be lazy, we can use the ```as``` command, which means that we're giving something a nickname.\n",
    "\n",
    "That is, ```import numpy as np``` allows us to call numpy functions with the prefix ```np.```, which is much more brief. For example, we can write:"
   ]
  },
  {
   "cell_type": "code",
   "execution_count": 5,
   "id": "6638743e-5be1-4900-abf3-4ff5eb55637b",
   "metadata": {},
   "outputs": [
    {
     "name": "stdout",
     "output_type": "stream",
     "text": [
      "3.141592653589793\n"
     ]
    }
   ],
   "source": [
    "import numpy as np\n",
    "print(np.pi)"
   ]
  },
  {
   "cell_type": "markdown",
   "id": "1e9a2ad3-6e03-4709-9c60-0f6fb0a9b24b",
   "metadata": {},
   "source": [
    "In the next cell I have used the ```np.sin()``` function to find the sine of 30. The result should tell you whether np.sin() assumes the angle is in degrees or radians.\n",
    "\n",
    "Once you check this for yourself, use the ```type()``` command to check what the data type of the output is. Is it what you expected?"
   ]
  },
  {
   "cell_type": "code",
   "execution_count": 8,
   "id": "b75166ec-892c-4bb1-8109-95a2bc25656b",
   "metadata": {},
   "outputs": [
    {
     "data": {
      "text/plain": [
       "-0.9880316240928618"
      ]
     },
     "execution_count": 8,
     "metadata": {},
     "output_type": "execute_result"
    }
   ],
   "source": [
    "np.sin(30)"
   ]
  },
  {
   "cell_type": "markdown",
   "id": "a7824ded-554c-4a09-ba1c-e267d584656d",
   "metadata": {},
   "source": [
    "## Review of Lists \n",
    "\n",
    "Suppose that I have a list: e.g. ```x=[0,1,2,3,4,5]```. Recall that we previously had tried to ```print(2*x)```. This yielded ```[0,1,2,3,4,5,0,1,2,3,4,5]```. You can check this below:"
   ]
  },
  {
   "cell_type": "code",
   "execution_count": 21,
   "id": "7c77737e-2dd4-424f-991e-f06fa6282c1e",
   "metadata": {},
   "outputs": [
    {
     "name": "stdout",
     "output_type": "stream",
     "text": [
      "[0, 1, 2, 3, 4, 5, 0, 1, 2, 3, 4, 5]\n"
     ]
    }
   ],
   "source": [
    "x=[0,1,2,3,4,5]\n",
    "print(2*x)"
   ]
  },
  {
   "cell_type": "markdown",
   "id": "868a3b18-0f98-4bb9-a126-3e5566d12307",
   "metadata": {},
   "source": [
    "But what if we wanted to have Python multiply each element by 2? This will be helpful when plotting functions, for instance. Well, we could use a loop to do this for us. For example:"
   ]
  },
  {
   "cell_type": "code",
   "execution_count": 2,
   "id": "6d8eb32c-bc40-4ac4-9a5a-da6c385c35a8",
   "metadata": {},
   "outputs": [
    {
     "name": "stdout",
     "output_type": "stream",
     "text": [
      "[0, 2, 4, 6, 8, 10]\n"
     ]
    }
   ],
   "source": [
    "x=[0,1,2,3,4,5]\n",
    "z=[]\n",
    "for i in x: \n",
    "    z=z+[x[i]*2]\n",
    "print(z)"
   ]
  },
  {
   "cell_type": "markdown",
   "id": "e09b4305-0d39-49fb-b537-dadf22466889",
   "metadata": {},
   "source": [
    "This is fine, but clunky. What if we had a more complicated function? Having to create a loop every time we manipulate a function can make our code bulky and can make the process tedious. Numpy has some different data types (like different types of lists called np.arrays) that better handle this issue. One way to generate such a list is with the ```np.linspace``` function. It auto-generates evenly spaced points within an interval, and is thus very useful for making a grid or plotting. Here's houw to use it:"
   ]
  },
  {
   "cell_type": "code",
   "execution_count": 1,
   "id": "5aee22bd-257e-4299-8874-719ce5f23c32",
   "metadata": {},
   "outputs": [
    {
     "name": "stdout",
     "output_type": "stream",
     "text": [
      "[ 0.  1.  2.  3.  4.  5.  6.  7.  8.  9. 10.]\n",
      "[ 0.  2.  4.  6.  8. 10. 12. 14. 16. 18. 20.]\n",
      "<class 'numpy.ndarray'>\n"
     ]
    }
   ],
   "source": [
    "import numpy as np\n",
    "\n",
    "y=np.linspace(0,10,11)\n",
    "print(y)\n",
    "print(2*y)\n",
    "print(type(y))"
   ]
  },
  {
   "cell_type": "markdown",
   "id": "4829f485-0972-4fcf-b270-26c4b1af8e67",
   "metadata": {},
   "source": [
    "The data type, as you can see from the above, is \"numpy.ndarray\". It has the nice property of performing operations on each element individually as opposed to on the list/data type as a whole. \n",
    "\n",
    "To use the linspace function, the first number represents the first point in the evenly spaced interval, the second number represents the last point in the evenly spaced interval, and the final number represents the number of total points in the list/array. Play with these values to ensure that they do what you expect."
   ]
  },
  {
   "cell_type": "markdown",
   "id": "84f0c19a-91f2-4dbb-88d7-8f2dc3f1d15c",
   "metadata": {},
   "source": [
    "# Plotting\n",
    "\n",
    "To plot functions or data, we will need to use the ```matplotlib.pyplot``` package. Start with the usual:"
   ]
  },
  {
   "cell_type": "code",
   "execution_count": 2,
   "id": "d4415c56-0c63-408b-8435-0350bb5708f2",
   "metadata": {},
   "outputs": [],
   "source": [
    "import matplotlib.pyplot as plt"
   ]
  },
  {
   "cell_type": "markdown",
   "id": "69a67074-2b63-42d6-b9f7-0b0c441ce5a1",
   "metadata": {},
   "source": [
    "Bear with me here...the following isn't something that you're expected to memorize. Feel free to come back and copy this whenever you need to use it.\n",
    "\n",
    "Remember, if you need to find information on the various functions and data structures in a package, look up \"[Package name] documentation\" on Google. Feel free to also use AI as a coding tool when using packages. It can be very useful."
   ]
  },
  {
   "cell_type": "code",
   "execution_count": 18,
   "id": "2b1e4db2-3604-4d19-981a-4bd4509dcc56",
   "metadata": {},
   "outputs": [
    {
     "data": {
      "image/png": "[encoded data removed]",
      "text/plain": [
       "<Figure size 1000x900 with 1 Axes>"
      ]
     },
     "metadata": {},
     "output_type": "display_data"
    }
   ],
   "source": [
    "xValues=np.linspace(0,2*np.pi, 30)\n",
    "yValues=np.sin(xValues)\n",
    "\n",
    "# create a figure with a set of axes as we did with histograms\n",
    "fig1, ax1 = plt.subplots()\n",
    "\n",
    "# scatter plot data set 1\n",
    "ax1.scatter(xValues, yValues)\n",
    "\n",
    "# uncomment the following line to connect the dots\n",
    "#plt.plot(xValues, yValues)\n",
    "\n",
    "# a more explicit way to set labels\n",
    "plt.xlabel('x', fontsize = 10)\n",
    "plt.ylabel('Sin(x)', fontsize = 10)\n",
    "plt.title('Plot of Sin(x)', fontsize = 20)\n",
    "\n",
    "# turn on plot grid\n",
    "ax1.grid()\n",
    "\n",
    "# Set the size of my plot for better visibility\n",
    "fig1.set_size_inches(10, 9)\n",
    "\n",
    "# uncomment this line if I want to save a png of the plot for other purposes\n",
    "#fig1.savefig(\"myplot.png\")\n",
    "plt.show()"
   ]
  },
  {
   "cell_type": "code",
   "execution_count": null,
   "id": "ec50195e-6109-4b0b-b265-609167f59ca9",
   "metadata": {},
   "outputs": [],
   "source": []
  }
 ],
 "metadata": {
  "kernelspec": {
   "display_name": "Python 3 (ipykernel)",
   "language": "python",
   "name": "python3"
  },
  "language_info": {
   "codemirror_mode": {
    "name": "ipython",
    "version": 3
   },
   "file_extension": ".py",
   "mimetype": "text/x-python",
   "name": "python",
   "nbconvert_exporter": "python",
   "pygments_lexer": "ipython3",
   "version": "3.11.7"
  }
 },
 "nbformat": 4,
 "nbformat_minor": 5
}
