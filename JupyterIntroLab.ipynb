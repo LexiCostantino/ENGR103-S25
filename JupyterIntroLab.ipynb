{
 "cells": [
  {
   "attachments": {},
   "cell_type": "markdown",
   "metadata": {},
   "source": [
    "# Jupyter Intro Lab\n",
    "## April 1, 2025\n",
    "\n",
    "<!--\n",
    "You could use ### to list your groupmmates or use another subtitle. I've ``commented'' this out (that means that it won't show in the final pdf) by placing using the syntax that you see in the above and below lines. Another test comment is below.\n",
    "--> \n",
    "\n",
    "<!--\n",
    "Hi\n",
    "--> \n",
    " >\n",
    "\n",
    "#### Markdown vs Code\n",
    "\n",
    "Jupyter (the program by which you're reading this) supports 2 types of cells: _Markdown_ and _code_. You can choose the type of cell that you would like to create by using the following dropdown menu:\n",
    "\n",
    "<img src=\"https://raw.githubusercontent.com/smithrockmaker/PH211/master/images/cellType.png\" />\n",
    "\n",
    "This cell was created using Markdown. The code cells use the Python coding language to perform some type of computation. What you do in one type of cell does not impact what you do in the other type of cell---they are seperate in that they don't \"talk\" to each other.\n",
    "\n",
    "Markdown is used for _communicating to other humans using/reading your document_. Python is used for _coding_.\n",
    "\n",
    "#### Markdown Basics\n",
    "\n",
    "When you start a notebook the markdown cells are usually 'rendered' meaning they have been processed to yield the intended output. This is similar to the html code that is behind a webpage. Note that you did not have to run this Markdown code before seeing the intended output. \n",
    "\n",
    "1: To access the markdown syntax that produces the desired output you can double click on this cell. When you do so you should see things change inside this particular unit of the notebook. This unit is called a cell. \n",
    "\n",
    "2: When you want to see the rendered version of the cell 'shift+enter/return' will render the active cell (the one with the blue bar next to it on the left). Try these two steps.\n",
    "\n",
    "You can edit the text and other markdown syntax much like you do in a standard word processing program. You will find that you can **NOT** edit the text or syntax when the cell is rendered.\n",
    "\n",
    "3: To create a new cell use the '+' at the top of your notebook window. \n",
    "<img src=\"https://github.com/LexiCostantino/ENGR103-S24/blob/main/images/IntroLab1.jpg?raw=true\" />\n",
    "\n",
    "\n",
    "This will create a new cell after the currently active cell. When you do so the new cell will, by default, expect that it is a code cell. This is indicated by the small brackets to the left of the cell.  \n",
    "<img src=\"https://raw.githubusercontent.com/smithrockmaker/PH211/master/images/codeCell.png\" />\n",
    "\n",
    "To let the notebook know that you want it to be a markdown cell select 'markdown' from the dropdown menu just below the notebook title.  \n",
    "<img src=\"https://raw.githubusercontent.com/smithrockmaker/PH211/master/images/cellType.png\" />\n",
    "\n",
    "You will notice that the small brackets have disappeared.  \n",
    "<img src=\"https://raw.githubusercontent.com/smithrockmaker/PH211/master/images/markdownCell.png\" />\n",
    "\n",
    "**Note:** Images need to be linked in order to appear in the document. In standard practice, you may choose to keep these files stored in the same folder as your other LaTex/Jupyter documents---this is easiest to manage locally. When I choose to share my files with you all, however, I would rather not have you all download the .tex/.ipynb files *and* a folder full of images. Therefore, I have chosen to upload my images to Github or source them elsewhere on the public web. "
   ]
  },
  {
   "cell_type": "markdown",
   "metadata": {},
   "source": [
    "#### Deliverable --- Step 1: Create a new document!\n",
    "\n",
    "For most class deliverables you are asked to have a header in the first cell of your notebook that includes:  \n",
    "- a title for the assignment in a fairly large font\n",
    "- the date and your name\n",
    "- a list of your group mates or folx you worked with\n",
    "\n",
    "Please create this cell in Markdown.\n",
    "\n",
    "You could just edit this notebook to produce this result but if you do that you will lose a number of useful references for how to do things like embed images (first cell), lists (this cell), or hot links (next cell) in your lab report. My recommendation is to go to the Jupyterlab 'File' menu and open a new notebook. The new notebook will show up in a separate tab in the Jupyterlab window. Again, in the 'File' menu, use 'Save Notebook As' to save this new notebook with a useful name. Now you will have both this set of instructions and your personal lab notebook open at the same time. "
   ]
  },
  {
   "cell_type": "markdown",
   "metadata": {},
   "source": [
    "#### Other Thoughts:   \n",
    "If I just start a new line in the markdown text \n",
    "(click on the cell to look at what I did) \n",
    "the processor doesn't produce \n",
    "a new \n",
    "line when it runs the \n",
    "cell. To get a new line I have to be sure to leave \n",
    "two (2) spaces at the end of the previous line.  \n",
    "\n",
    "This is what it looks like if I leave a blank line in the markdown text that I am typing.\n",
    "\n",
    "You also have access to some quick ways to create **bold** type, *italic* type, and ***both***. There are lots more possibilities that you can find in the markdown tutorial links you can access. Bruce Emerson (recently retired COCC prof) has a great list of resources for Markdown/Python/LaTex/etc on his website: [Coding Resources and Documentation](http://coccweb.cocc.edu/bemerson/PhysicsGlobal/Courses/PH211/PH211Learning/PH211Software/PH211Softpage.html) (and now you know how to make a hot link)."
   ]
  },
  {
   "cell_type": "markdown",
   "metadata": {},
   "source": [
    "## LaTeX\n",
    "\n",
    "LaTex was created as a markup language to allow high levels of control over the production of technical and scientific documents. It is extremely useful for use when typing up documents that have any sort of math in them. It is also useful when typing documents with lots of sources---it makes citing sources very easy! Markdown uses many LaTex commands (specifically many of the math commands) and can be thought of as a slightly more beginner-friendly version of LaTex."
   ]
  },
  {
   "cell_type": "markdown",
   "metadata": {},
   "source": [
    "### LaTeX Math Mode\n",
    "\n",
    "To write in math mode, write ```$``` or ```$$``` around the text. This is how you can write equations using LaTex. One ```$``` is used to write an inline equation. ```$$``` is used for an equation that you would like to stand out on in its own line (and centered). An example of each follows.\n",
    "\n",
    "In trigonometry, we learned $ 1 = sin(\\theta)^2 + cos(\\theta)^2$, which is true for any angle.\n",
    "\n",
    "Euler's formula tells us that for any $\\varphi$,\n",
    "$$ e^{i\\varphi}=cos(\\varphi)+isin(\\varphi).$$\n",
    "This is true for any $\\varphi \\in \\mathcal{C}$.\n",
    "\n",
    "Writing mathematical expressions using embedded LaTeX is a little like a secret code (generally referred to as a markup language - html is also a markup language).\n",
    "\n",
    "### Subscripts/Superscripts\n",
    "\n",
    "Simple:\n",
    "\n",
    "$ x^3 $ or $xy_i$\n",
    "\n",
    "More Complex:\n",
    "\n",
    "$ z^{m+1}$ or $F_{friction}$\n",
    "\n",
    "or Ridiculous:\n",
    "\n",
    "$$p^{n^2 + \\pi_2}_{\\sqrt{x+y^{2}_{1}}}$$\n",
    "\n",
    "In the 'ridiculous' example remove one of the curly brackets ```}``` in the expression and notice how it doesn't render. This is what usually happens when you don't complete all the brackets properly.\n",
    "\n",
    "### Fractions\n",
    "\n",
    "$$ \\frac{\\partial^2 \\psi_n}{\\partial x^2} $$\n",
    "\n",
    "### Vectors\n",
    "\n",
    "$$ \\frac{\\vec{F}_\\text{net}}{m} = \\frac{d\\vec{v}}{dt} $$\n",
    "\n",
    "$$ \\vec{B} = B_{x} \\hat{x} + B_{y} \\hat{y}+ B_{z} \\hat{z}$$\n",
    "\n",
    "### Font Size Control\n",
    "\n",
    "$$ \\large \\pm \\frac{z^{m+1}}{a^2 + b^2} $$\n",
    "\n",
    "$$ \\tiny \\pm\\frac{z^{m+1}}{a^2 + b^2} $$\n",
    "\n",
    "$$ \\huge \\pm\\frac{z^{m+1}}{a^2 + b^2} $$\n",
    "\n",
    "### Some Overkill \n",
    "\n",
    "$$\n",
    "G\\, (z,z') \\equiv \\sum_{n=0}^\\infty G^{(n)}\\, (z,z') =\n",
    "\\left(\\frac{i}{k}\\right)\n",
    "\\int_{-i \\infty}^{i \\infty} d\\alpha \\,\n",
    "\\frac{1}{P(\\alpha,\\bar \\alpha)^{-1} +  \\hat\\lambda^2 {\\mathcal B}(\\alpha)}\n",
    " \\Omega^{(0)}_{\\alpha}\\,(z,z')\n",
    " $$\n",
    "\n",
    "This is an actual equation from my dissertation. This is totally overkill for what you will need, but I am mostly just trying to give you a sampling of different operators so that you can steal them for your own work. Please, feel free to double-click on this cell to steal from the above should you ever need anything.\n",
    "\n",
    "#### Deliverable --- Step 2: Pythagorean Theorem!\n",
    "\n",
    "In the new file created in step 1 (above), create another markdown cell below your header cell. In that cell, use LaTeX to label and write the Pythagorean formula for the hypotenuse (not the square of the hypotenuse), c, given a triangle with legs a and b.\n",
    "\n",
    "Label and write the quadratic formula. All the tools you need to do this are in this markdown cell."
   ]
  },
  {
   "cell_type": "markdown",
   "metadata": {},
   "source": [
    "## Very Basic Python\n",
    "\n",
    "If you create a code cell you will see the square brackets to the left of the cell. When you 'execute' the cell using 'shift+enter/return' a \\* will appear in the brackets while the code is being executed. After the execution is complete a number will be displayed in the brackets. You can also 'execute' a cell using the run button to the right of the clipboard in the notebook menu.\n",
    "\n",
    "Sometimes the cell executes so quickly you don't get to see the \\* and other times you will wonder if the system is stuck. We will explore these possibilities as they come up in the future. \n",
    "\n",
    "#### Hello World --- Every coder's first line\n",
    "\n",
    "\"Hello World\" is a $\\text{clich\\'e}$/trope in coding. It's a common exercise when learning a new coding language to get the computer to say \"Hello World\",  so lets get that out of the way.\n",
    "\n",
    "```print()``` is a command that tells python to output the 'argument' of the command - the stuff inside the parentheses - and the double quotes tell python that it's text. Thus ```print(\"Hello World\")``` will have python print the text Hello World. See what happens if you remove the quotes."
   ]
  },
  {
   "cell_type": "code",
   "execution_count": 9,
   "metadata": {},
   "outputs": [
    {
     "name": "stdout",
     "output_type": "stream",
     "text": [
      "Hello World\n"
     ]
    }
   ],
   "source": [
    "print(\"Hello World\")"
   ]
  },
  {
   "cell_type": "markdown",
   "metadata": {},
   "source": [
    "#### Deliverable --- Step 3: Hello World!\n",
    "\n",
    "Create a code cell below your two Markdown cells from the previous steps. Have Python print \"Hello World\" in this cell."
   ]
  },
  {
   "cell_type": "markdown",
   "metadata": {},
   "source": [
    "#### Basic Math Operations\n",
    "\n",
    "\\* is multiply, / is divide, + and - are pretty clear. The only potential confusion is what to do for powers and roots -- ** gives us exponents which gives us roots - as fractional powers as well.\n",
    "\n",
    "Do some basic math operations in the following code cell to get comfortable with these operations."
   ]
  },
  {
   "cell_type": "code",
   "execution_count": 10,
   "metadata": {},
   "outputs": [
    {
     "data": {
      "text/plain": [
       "28.0"
      ]
     },
     "execution_count": 10,
     "metadata": {},
     "output_type": "execute_result"
    }
   ],
   "source": [
    "2**5 - 18/3 + 4**.5"
   ]
  },
  {
   "cell_type": "markdown",
   "metadata": {},
   "source": [
    "### Creating Variables + Data Types\n",
    "\n",
    "Read the content on the following webpages:\n",
    "[https://www.w3schools.com/python/python_variables.asp](https://www.w3schools.com/python/python_variables.asp) as well as [https://www.w3schools.com/python/python_datatypes.asp](https://www.w3schools.com/python/python_datatypes.asp) and [https://www.w3schools.com/python/python_numbers.asp](https://www.w3schools.com/python/python_numbers.asp)\n",
    "\n",
    "The most important data types for the moment are string, float, int, and list. \n",
    "\n",
    "#### Deliverable --- Step 4: Data Types!\n",
    "\n",
    "In a Markdown cell below your previous cells (from steps 1->3), write definitions (or do a compare/contrast) for the string, float, int, and list data types. You are welcome to directly use the results of a Google websearch or another resource of your choice to produce the definitions.\n",
    "\n",
    "#### Deliverable --- Step 5: Creating Variables!\n",
    "\n",
    "In a Python cell below step 4, create one variable of each of the following data types: string, float, int, and list. To create a list, it may help to reference the top of this page: [https://www.w3schools.com/python/python_lists.asp](https://www.w3schools.com/python/python_lists.asp)\n",
    "\n",
    "Attempt to add each combination of variables (for example, add your float varible to int variable. Then add float to float. Then add string to string, and so on). \n",
    "\n",
    "Then, try to multiply each combination of variables (you can do this with \\*).\n",
    "\n",
    "After doing each of the above, use a MD cell to note at least 4 unexpected/surprising observations of Python's output. Also list two questions that you have following the exercise and use a Google search to attempt to answer these questions.\n",
    "\n",
    "\n",
    "#### Deliverable --- Step 6: Generate .pdf and turn in!\n",
    "\n",
    "All that remains to do is to export your notebook to a pdf document that you can turn them in on Canvas. In a professional work setting you might well share you notebook directly with your colleagues or it may be hosted on a github repository for your job site. For us, because you are turning your notebooks in on Canvas they need to be converted to pdfs so they can be recognized by Canvas. The link below is our current best process for converting the notebook to a pdf. \n",
    "\n",
    "[Current Best pdf Export Process](http://coccweb.cocc.edu/bemerson/PhysicsGlobal/Courses/PH211/PH211Learning/PH211Software/Jupyter/PH211JupyterExpt.html)\n",
    "\n",
    "**Note:** You may well ask why not just export the notebook directly to a pdf (an option in the 'Export Notebook As' menu)? Seems obvious enough but the broad experience across many users is that there are many ways that export process can break. The process documented above has been the most reliable. If you _can_ export the notebook as a pdf, feel free to do so.\n"
   ]
  },
  {
   "cell_type": "code",
   "execution_count": null,
   "metadata": {},
   "outputs": [],
   "source": []
  },
  {
   "cell_type": "code",
   "execution_count": null,
   "metadata": {},
   "outputs": [],
   "source": []
  }
 ],
 "metadata": {
  "kernelspec": {
   "display_name": "Python 3 (ipykernel)",
   "language": "python",
   "name": "python3"
  },
  "language_info": {
   "codemirror_mode": {
    "name": "ipython",
    "version": 3
   },
   "file_extension": ".py",
   "mimetype": "text/x-python",
   "name": "python",
   "nbconvert_exporter": "python",
   "pygments_lexer": "ipython3",
   "version": "3.11.7"
  }
 },
 "nbformat": 4,
 "nbformat_minor": 4
}
