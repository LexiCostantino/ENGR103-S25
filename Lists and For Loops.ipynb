{
 "cells": [
  {
   "cell_type": "markdown",
   "id": "ca54046c-a732-457f-ab83-5f70249a04ab",
   "metadata": {},
   "source": [
    "# Loops\n",
    "\n",
    "Loops are one of the few key, fundamental tools of programming (along with if/else statements and basic variable types).\n",
    "\n",
    "Loops allow Python to repeatedly run a bit of code many times until some condition is satisfied. Loops are very powerful, because they utilize your computer to, in minutes, perform tasks and calculations far more lengthy/extended than you could hope to achieve in years.\n",
    "\n",
    "There are two main ways to create loops in Python: \"For Loops\" and \"While Loops\". \"For\" loops will be discussed below, whereas \"while\" loops will be discussed in a different document.\n",
    "\n",
    "## For Loops\n",
    "\n",
    "Here are some references for 'for' loops: [(1)](https://wiki.python.org/moin/ForLoop) and [(2)](https://www.w3schools.com/python/python_for_loops.asp). These linked pages cover a lot of options. \n",
    "\n",
    "#### How For Loops Work\n",
    "\n",
    "Consider the following code:\n",
    "```\n",
    "for i in range(0,5):\n",
    "    print(i)\n",
    "```\n",
    "The 0 indicates the initial value of i. Python sets the inital value, and then runs the indented code. Once the indented lines have been executed, Python increments the value of i by 1, and then re-runs the indented lines. This process repeats for $i=2$, $i=3$, and $i=4$. until i is updated to have a value of 5. Once Python sees that i as a value equal to the \"end\" value of the range (5 in this case), Python terminates the loop without running the code again. The value of i then remains at its last-held \n",
    "\n",
    "**Note**: you can also create loops by using any other letter as an index. \n",
    "\n",
    "**Caution**: Do not use a letter as an index for your loop that you have used as a variable anywhere else in your code, as it can get confusing to follow.\n",
    "\n",
    "Let's return to a modified version of the aforementioned code. Namely:\n",
    "```\n",
    "for q in range(4,7):\n",
    "    print(q)\n",
    "```\n",
    "When Python reads this code, it follows the following steps/commmands:\n",
    "    \n",
    "```q=4```\n",
    "    \n",
    "```print(4)```\n",
    "    \n",
    "```q=5```\n",
    "    \n",
    "```print(5)```\n",
    "    \n",
    "```q=6```\n",
    "    \n",
    "```print(6)```\n",
    "    \n",
    "```q=7```\n",
    "    \n",
    "At this point, the end condition has been met and the loop terminated (\"broken\").\n",
    "\n",
    "To terminate the loop early (before the condition is satisfied), simply use the ```break``` command. For example:\n",
    "```\n",
    "for q in range(4,7):\n",
    "    print(q)\n",
    "    if q==5: break\n",
    "```\n",
    "Here, when Python sees that either the $q=7$ or $q=5$ conditions are satisfied, the loop will break. In this case, the $q=5$ condition is the one that triggers the break. Try it yourself:"
   ]
  },
  {
   "cell_type": "code",
   "execution_count": 7,
   "id": "5d8e8fdf-3abc-4f93-81ca-5f7ae7335440",
   "metadata": {},
   "outputs": [
    {
     "name": "stdout",
     "output_type": "stream",
     "text": [
      "4\n",
      "5\n"
     ]
    }
   ],
   "source": [
    "for q in range(4,7):\n",
    "    print(q)\n",
    "    if q==5: break"
   ]
  },
  {
   "cell_type": "markdown",
   "id": "11c831c8-8c50-445f-a16a-74443c0c4784",
   "metadata": {},
   "source": [
    "Here is a less straightforward example:\n",
    "```\n",
    "v=0\n",
    "for i in range(0,5):\n",
    "    v=v+i #set new v equal to old v plus the current value of i\n",
    "    print(\"After iterating the loop\", i+1,\"times, we get:\", v) #print v before running the loop again\n",
    "```\n",
    "Copy and paste the above code into a code cell and run it. Does it do what you expect?\n",
    "\n",
    "##### One last note on ```range```\n",
    "\n",
    "If you were to instead enter one argument into the range funtion, it will take the first number above as 0 and assume the number you enetered is the _second_ number. For instance ```range(0,91)``` is the same as ```range(91)```.\n",
    "\n",
    "## Lists and Loops\n",
    "\n",
    "There are many other conditions that one could use to define the endpoint of a \"for\" loop. Consider a list:\n",
    "\n",
    "```\n",
    "my_list=[10,20,30,40,50,60,70,80,90,100]\n",
    "```\n",
    "\n",
    "To call the $n^\\text{th}$ element of this list, we write ```my_list[n-1]```. Try it!"
   ]
  },
  {
   "cell_type": "code",
   "execution_count": 9,
   "id": "9cb66dca-8286-486d-81f1-90d994e2bee3",
   "metadata": {},
   "outputs": [
    {
     "name": "stdout",
     "output_type": "stream",
     "text": [
      "10\n",
      "20\n",
      "30\n",
      "40\n",
      "50\n",
      "60\n",
      "70\n",
      "80\n",
      "90\n",
      "100\n"
     ]
    }
   ],
   "source": [
    "my_list=[10,20,30,40,50,60,70,80,90,100]\n",
    "print(my_list[0])\n",
    "print(my_list[1])\n",
    "print(my_list[2])\n",
    "print(my_list[3])\n",
    "print(my_list[4])\n",
    "print(my_list[5])\n",
    "print(my_list[6])\n",
    "print(my_list[7])\n",
    "print(my_list[8])\n",
    "print(my_list[9])"
   ]
  },
  {
   "cell_type": "markdown",
   "id": "f82ec536-48dc-4eff-98b1-a422f1fb4e08",
   "metadata": {},
   "source": [
    "Note that the first element is given by ```my_list[0]```, the second element is given by ```my_list[1]```, and so on.\n",
    "\n",
    "To find the total length of a list, we can use ```len(my_list)```. You can check, but this yields the expected result---10.\n",
    "\n",
    "We can use the fact that a list has a certain number of elements as a tool when building loops. For instance, we can write:"
   ]
  },
  {
   "cell_type": "code",
   "execution_count": 36,
   "id": "6572a38c-b3bb-4395-b202-fe5e82228156",
   "metadata": {},
   "outputs": [
    {
     "name": "stdout",
     "output_type": "stream",
     "text": [
      "[11, 21, 31, 41, 51, 61, 71, 81, 91, 101]\n"
     ]
    }
   ],
   "source": [
    "my_list=[10,20,30,40,50,60,70,80,90,100]\n",
    "for x in range(len(my_list)):\n",
    "    my_list[x]=my_list[x]+1\n",
    "print(my_list)"
   ]
  },
  {
   "cell_type": "markdown",
   "id": "0efabf65-8407-4562-98e9-c66d6e48bee4",
   "metadata": {},
   "source": [
    "We've managed to add 1 to every number in the list! Pretty cool!\n",
    "\n",
    "One last note on lists:\n",
    "\n",
    "##### Adding items to a list\n",
    "\n",
    "Suppose that we have an empty list called cookout. We define this list like so: ```cookout=[]```.\n",
    "To add items to the list, we can simply write ```cookout=cookout+[\"cheeseburger\"]```. Let's test this:"
   ]
  },
  {
   "cell_type": "code",
   "execution_count": 39,
   "id": "e6211e8f-ffbd-4d9c-9821-e4d0ce113d12",
   "metadata": {},
   "outputs": [
    {
     "name": "stdout",
     "output_type": "stream",
     "text": [
      "['cheeseburger']\n"
     ]
    }
   ],
   "source": [
    "cookout=[]\n",
    "cookout=cookout+[\"cheeseburger\"]\n",
    "print(cookout)"
   ]
  },
  {
   "cell_type": "markdown",
   "id": "ece21d9a-adc8-4d40-8404-abc019580108",
   "metadata": {},
   "source": [
    "We can add items to a list as part of a loop. For instance, note the functionality of the following loop:"
   ]
  },
  {
   "cell_type": "code",
   "execution_count": 40,
   "id": "00a9e918-6a4c-424e-9739-1aa4b982a581",
   "metadata": {},
   "outputs": [
    {
     "name": "stdout",
     "output_type": "stream",
     "text": [
      "['cheeseburger', 'cheeseburger', 'cheeseburger', 'cheeseburger', 'cheeseburger', 'cheeseburger', 'cheeseburger', 'cheeseburger', 'cheeseburger', 'cheeseburger', 'cheeseburger', 'cheeseburger', 'cheeseburger', 'cheeseburger', 'cheeseburger', 'cheeseburger', 'cheeseburger', 'cheeseburger', 'cheeseburger', 'cheeseburger', 'cheeseburger', 'cheeseburger', 'cheeseburger', 'cheeseburger', 'cheeseburger', 'cheeseburger', 'cheeseburger', 'cheeseburger', 'cheeseburger', 'cheeseburger', 'cheeseburger', 'cheeseburger', 'cheeseburger', 'cheeseburger', 'cheeseburger', 'cheeseburger', 'cheeseburger', 'cheeseburger', 'cheeseburger', 'cheeseburger', 'cheeseburger', 'cheeseburger', 'cheeseburger', 'cheeseburger', 'cheeseburger', 'cheeseburger', 'cheeseburger', 'cheeseburger', 'cheeseburger', 'cheeseburger', 'cheeseburger', 'cheeseburger', 'cheeseburger', 'cheeseburger', 'cheeseburger', 'cheeseburger', 'cheeseburger', 'cheeseburger', 'cheeseburger', 'cheeseburger', 'cheeseburger', 'cheeseburger', 'cheeseburger', 'cheeseburger', 'cheeseburger', 'cheeseburger', 'cheeseburger', 'cheeseburger', 'cheeseburger', 'cheeseburger', 'cheeseburger', 'cheeseburger', 'cheeseburger', 'cheeseburger', 'cheeseburger', 'cheeseburger', 'cheeseburger', 'cheeseburger', 'cheeseburger', 'cheeseburger', 'cheeseburger', 'cheeseburger', 'cheeseburger', 'cheeseburger', 'cheeseburger', 'cheeseburger', 'cheeseburger', 'cheeseburger', 'cheeseburger', 'cheeseburger', 'cheeseburger', 'cheeseburger', 'cheeseburger', 'cheeseburger', 'cheeseburger', 'cheeseburger', 'cheeseburger', 'cheeseburger', 'cheeseburger', 'cheeseburger']\n"
     ]
    }
   ],
   "source": [
    "cookout=[]\n",
    "for x in range(100):\n",
    "    cookout=cookout+[\"cheeseburger\"]\n",
    "print(cookout)"
   ]
  },
  {
   "cell_type": "markdown",
   "id": "84bea17f-cec9-4606-a883-8bd06e2f9220",
   "metadata": {},
   "source": [
    "We can make this as silly as we'd like. Combining many of the tools we've learned in the class, we can write:"
   ]
  },
  {
   "cell_type": "code",
   "execution_count": 43,
   "id": "b50f3bb6-bf19-4774-9a50-c92b360d80ff",
   "metadata": {},
   "outputs": [
    {
     "name": "stdout",
     "output_type": "stream",
     "text": [
      "['cheeseburger', 'cheeeseburger', 'cheeeeseburger', 'cheeeeeseburger', 'cheeeeeeseburger', 'cheeeeeeeseburger', 'cheeeeeeeeseburger', 'cheeeeeeeeeseburger', 'cheeeeeeeeeeseburger', 'cheeeeeeeeeeeseburger', 'cheeeeeeeeeeeeseburger', 'cheeeeeeeeeeeeeseburger', 'cheeeeeeeeeeeeeeseburger', 'cheeeeeeeeeeeeeeeseburger', 'cheeeeeeeeeeeeeeeeseburger', 'cheeeeeeeeeeeeeeeeeseburger', 'cheeeeeeeeeeeeeeeeeeseburger', 'cheeeeeeeeeeeeeeeeeeeseburger', 'cheeeeeeeeeeeeeeeeeeeeseburger', 'cheeeeeeeeeeeeeeeeeeeeeseburger', 'cheeeeeeeeeeeeeeeeeeeeeeseburger', 'cheeeeeeeeeeeeeeeeeeeeeeeseburger', 'cheeeeeeeeeeeeeeeeeeeeeeeeseburger', 'cheeeeeeeeeeeeeeeeeeeeeeeeeseburger', 'cheeeeeeeeeeeeeeeeeeeeeeeeeeseburger', 'cheeeeeeeeeeeeeeeeeeeeeeeeeeeseburger', 'cheeeeeeeeeeeeeeeeeeeeeeeeeeeeseburger', 'cheeeeeeeeeeeeeeeeeeeeeeeeeeeeeseburger', 'cheeeeeeeeeeeeeeeeeeeeeeeeeeeeeeseburger', 'cheeeeeeeeeeeeeeeeeeeeeeeeeeeeeeeseburger', 'cheeeeeeeeeeeeeeeeeeeeeeeeeeeeeeeeseburger', 'cheeeeeeeeeeeeeeeeeeeeeeeeeeeeeeeeeseburger', 'cheeeeeeeeeeeeeeeeeeeeeeeeeeeeeeeeeeseburger', 'cheeeeeeeeeeeeeeeeeeeeeeeeeeeeeeeeeeeseburger', 'cheeeeeeeeeeeeeeeeeeeeeeeeeeeeeeeeeeeeseburger', 'cheeeeeeeeeeeeeeeeeeeeeeeeeeeeeeeeeeeeeseburger', 'cheeeeeeeeeeeeeeeeeeeeeeeeeeeeeeeeeeeeeeseburger', 'cheeeeeeeeeeeeeeeeeeeeeeeeeeeeeeeeeeeeeeeseburger', 'cheeeeeeeeeeeeeeeeeeeeeeeeeeeeeeeeeeeeeeeeseburger', 'cheeeeeeeeeeeeeeeeeeeeeeeeeeeeeeeeeeeeeeeeeseburger', 'cheeeeeeeeeeeeeeeeeeeeeeeeeeeeeeeeeeeeeeeeeeseburger', 'cheeeeeeeeeeeeeeeeeeeeeeeeeeeeeeeeeeeeeeeeeeeseburger', 'cheeeeeeeeeeeeeeeeeeeeeeeeeeeeeeeeeeeeeeeeeeeeseburger', 'cheeeeeeeeeeeeeeeeeeeeeeeeeeeeeeeeeeeeeeeeeeeeeseburger', 'cheeeeeeeeeeeeeeeeeeeeeeeeeeeeeeeeeeeeeeeeeeeeeeseburger', 'cheeeeeeeeeeeeeeeeeeeeeeeeeeeeeeeeeeeeeeeeeeeeeeeseburger', 'cheeeeeeeeeeeeeeeeeeeeeeeeeeeeeeeeeeeeeeeeeeeeeeeeseburger', 'cheeeeeeeeeeeeeeeeeeeeeeeeeeeeeeeeeeeeeeeeeeeeeeeeeseburger', 'cheeeeeeeeeeeeeeeeeeeeeeeeeeeeeeeeeeeeeeeeeeeeeeeeeeseburger', 'cheeeeeeeeeeeeeeeeeeeeeeeeeeeeeeeeeeeeeeeeeeeeeeeeeeeseburger', 'cheeeeeeeeeeeeeeeeeeeeeeeeeeeeeeeeeeeeeeeeeeeeeeeeeeeeseburger', 'cheeeeeeeeeeeeeeeeeeeeeeeeeeeeeeeeeeeeeeeeeeeeeeeeeeeeeseburger', 'cheeeeeeeeeeeeeeeeeeeeeeeeeeeeeeeeeeeeeeeeeeeeeeeeeeeeeeseburger', 'cheeeeeeeeeeeeeeeeeeeeeeeeeeeeeeeeeeeeeeeeeeeeeeeeeeeeeeeseburger', 'cheeeeeeeeeeeeeeeeeeeeeeeeeeeeeeeeeeeeeeeeeeeeeeeeeeeeeeeeseburger', 'cheeeeeeeeeeeeeeeeeeeeeeeeeeeeeeeeeeeeeeeeeeeeeeeeeeeeeeeeeseburger', 'cheeeeeeeeeeeeeeeeeeeeeeeeeeeeeeeeeeeeeeeeeeeeeeeeeeeeeeeeeeseburger', 'cheeeeeeeeeeeeeeeeeeeeeeeeeeeeeeeeeeeeeeeeeeeeeeeeeeeeeeeeeeeseburger', 'cheeeeeeeeeeeeeeeeeeeeeeeeeeeeeeeeeeeeeeeeeeeeeeeeeeeeeeeeeeeeseburger', 'cheeeeeeeeeeeeeeeeeeeeeeeeeeeeeeeeeeeeeeeeeeeeeeeeeeeeeeeeeeeeeseburger', 'cheeeeeeeeeeeeeeeeeeeeeeeeeeeeeeeeeeeeeeeeeeeeeeeeeeeeeeeeeeeeeeseburger', 'cheeeeeeeeeeeeeeeeeeeeeeeeeeeeeeeeeeeeeeeeeeeeeeeeeeeeeeeeeeeeeeeseburger', 'cheeeeeeeeeeeeeeeeeeeeeeeeeeeeeeeeeeeeeeeeeeeeeeeeeeeeeeeeeeeeeeeeseburger', 'cheeeeeeeeeeeeeeeeeeeeeeeeeeeeeeeeeeeeeeeeeeeeeeeeeeeeeeeeeeeeeeeeeseburger', 'cheeeeeeeeeeeeeeeeeeeeeeeeeeeeeeeeeeeeeeeeeeeeeeeeeeeeeeeeeeeeeeeeeeseburger', 'cheeeeeeeeeeeeeeeeeeeeeeeeeeeeeeeeeeeeeeeeeeeeeeeeeeeeeeeeeeeeeeeeeeeseburger', 'cheeeeeeeeeeeeeeeeeeeeeeeeeeeeeeeeeeeeeeeeeeeeeeeeeeeeeeeeeeeeeeeeeeeeseburger', 'cheeeeeeeeeeeeeeeeeeeeeeeeeeeeeeeeeeeeeeeeeeeeeeeeeeeeeeeeeeeeeeeeeeeeeseburger', 'cheeeeeeeeeeeeeeeeeeeeeeeeeeeeeeeeeeeeeeeeeeeeeeeeeeeeeeeeeeeeeeeeeeeeeeseburger', 'cheeeeeeeeeeeeeeeeeeeeeeeeeeeeeeeeeeeeeeeeeeeeeeeeeeeeeeeeeeeeeeeeeeeeeeeseburger', 'cheeeeeeeeeeeeeeeeeeeeeeeeeeeeeeeeeeeeeeeeeeeeeeeeeeeeeeeeeeeeeeeeeeeeeeeeseburger', 'cheeeeeeeeeeeeeeeeeeeeeeeeeeeeeeeeeeeeeeeeeeeeeeeeeeeeeeeeeeeeeeeeeeeeeeeeeseburger', 'cheeeeeeeeeeeeeeeeeeeeeeeeeeeeeeeeeeeeeeeeeeeeeeeeeeeeeeeeeeeeeeeeeeeeeeeeeeseburger', 'cheeeeeeeeeeeeeeeeeeeeeeeeeeeeeeeeeeeeeeeeeeeeeeeeeeeeeeeeeeeeeeeeeeeeeeeeeeeseburger', 'cheeeeeeeeeeeeeeeeeeeeeeeeeeeeeeeeeeeeeeeeeeeeeeeeeeeeeeeeeeeeeeeeeeeeeeeeeeeeseburger', 'cheeeeeeeeeeeeeeeeeeeeeeeeeeeeeeeeeeeeeeeeeeeeeeeeeeeeeeeeeeeeeeeeeeeeeeeeeeeeeseburger', 'cheeeeeeeeeeeeeeeeeeeeeeeeeeeeeeeeeeeeeeeeeeeeeeeeeeeeeeeeeeeeeeeeeeeeeeeeeeeeeeseburger', 'cheeeeeeeeeeeeeeeeeeeeeeeeeeeeeeeeeeeeeeeeeeeeeeeeeeeeeeeeeeeeeeeeeeeeeeeeeeeeeeeseburger', 'cheeeeeeeeeeeeeeeeeeeeeeeeeeeeeeeeeeeeeeeeeeeeeeeeeeeeeeeeeeeeeeeeeeeeeeeeeeeeeeeeseburger', 'cheeeeeeeeeeeeeeeeeeeeeeeeeeeeeeeeeeeeeeeeeeeeeeeeeeeeeeeeeeeeeeeeeeeeeeeeeeeeeeeeeseburger', 'cheeeeeeeeeeeeeeeeeeeeeeeeeeeeeeeeeeeeeeeeeeeeeeeeeeeeeeeeeeeeeeeeeeeeeeeeeeeeeeeeeeseburger', 'cheeeeeeeeeeeeeeeeeeeeeeeeeeeeeeeeeeeeeeeeeeeeeeeeeeeeeeeeeeeeeeeeeeeeeeeeeeeeeeeeeeeseburger', 'cheeeeeeeeeeeeeeeeeeeeeeeeeeeeeeeeeeeeeeeeeeeeeeeeeeeeeeeeeeeeeeeeeeeeeeeeeeeeeeeeeeeeseburger', 'cheeeeeeeeeeeeeeeeeeeeeeeeeeeeeeeeeeeeeeeeeeeeeeeeeeeeeeeeeeeeeeeeeeeeeeeeeeeeeeeeeeeeeseburger', 'cheeeeeeeeeeeeeeeeeeeeeeeeeeeeeeeeeeeeeeeeeeeeeeeeeeeeeeeeeeeeeeeeeeeeeeeeeeeeeeeeeeeeeeseburger', 'cheeeeeeeeeeeeeeeeeeeeeeeeeeeeeeeeeeeeeeeeeeeeeeeeeeeeeeeeeeeeeeeeeeeeeeeeeeeeeeeeeeeeeeeseburger', 'cheeeeeeeeeeeeeeeeeeeeeeeeeeeeeeeeeeeeeeeeeeeeeeeeeeeeeeeeeeeeeeeeeeeeeeeeeeeeeeeeeeeeeeeeseburger', 'cheeeeeeeeeeeeeeeeeeeeeeeeeeeeeeeeeeeeeeeeeeeeeeeeeeeeeeeeeeeeeeeeeeeeeeeeeeeeeeeeeeeeeeeeeseburger', 'cheeeeeeeeeeeeeeeeeeeeeeeeeeeeeeeeeeeeeeeeeeeeeeeeeeeeeeeeeeeeeeeeeeeeeeeeeeeeeeeeeeeeeeeeeeseburger', 'cheeeeeeeeeeeeeeeeeeeeeeeeeeeeeeeeeeeeeeeeeeeeeeeeeeeeeeeeeeeeeeeeeeeeeeeeeeeeeeeeeeeeeeeeeeeseburger', 'cheeeeeeeeeeeeeeeeeeeeeeeeeeeeeeeeeeeeeeeeeeeeeeeeeeeeeeeeeeeeeeeeeeeeeeeeeeeeeeeeeeeeeeeeeeeeseburger', 'cheeeeeeeeeeeeeeeeeeeeeeeeeeeeeeeeeeeeeeeeeeeeeeeeeeeeeeeeeeeeeeeeeeeeeeeeeeeeeeeeeeeeeeeeeeeeeseburger', 'cheeeeeeeeeeeeeeeeeeeeeeeeeeeeeeeeeeeeeeeeeeeeeeeeeeeeeeeeeeeeeeeeeeeeeeeeeeeeeeeeeeeeeeeeeeeeeeseburger', 'cheeeeeeeeeeeeeeeeeeeeeeeeeeeeeeeeeeeeeeeeeeeeeeeeeeeeeeeeeeeeeeeeeeeeeeeeeeeeeeeeeeeeeeeeeeeeeeeseburger', 'cheeeeeeeeeeeeeeeeeeeeeeeeeeeeeeeeeeeeeeeeeeeeeeeeeeeeeeeeeeeeeeeeeeeeeeeeeeeeeeeeeeeeeeeeeeeeeeeeseburger', 'cheeeeeeeeeeeeeeeeeeeeeeeeeeeeeeeeeeeeeeeeeeeeeeeeeeeeeeeeeeeeeeeeeeeeeeeeeeeeeeeeeeeeeeeeeeeeeeeeeseburger', 'cheeeeeeeeeeeeeeeeeeeeeeeeeeeeeeeeeeeeeeeeeeeeeeeeeeeeeeeeeeeeeeeeeeeeeeeeeeeeeeeeeeeeeeeeeeeeeeeeeeseburger', 'cheeeeeeeeeeeeeeeeeeeeeeeeeeeeeeeeeeeeeeeeeeeeeeeeeeeeeeeeeeeeeeeeeeeeeeeeeeeeeeeeeeeeeeeeeeeeeeeeeeeseburger', 'cheeeeeeeeeeeeeeeeeeeeeeeeeeeeeeeeeeeeeeeeeeeeeeeeeeeeeeeeeeeeeeeeeeeeeeeeeeeeeeeeeeeeeeeeeeeeeeeeeeeeseburger', 'cheeeeeeeeeeeeeeeeeeeeeeeeeeeeeeeeeeeeeeeeeeeeeeeeeeeeeeeeeeeeeeeeeeeeeeeeeeeeeeeeeeeeeeeeeeeeeeeeeeeeeseburger']\n"
     ]
    }
   ],
   "source": [
    "cookout=[]\n",
    "for x in range(100):\n",
    "    cookout=cookout+[\"ch\"+(x+2)*\"e\"+\"seburger\"]\n",
    "print(cookout)"
   ]
  },
  {
   "attachments": {},
   "cell_type": "markdown",
   "id": "ed210766-a1fd-41d7-8ded-1496ed113869",
   "metadata": {},
   "source": [
    "We can also run a \"for\" loop over the length of a list more directly by doing the following:"
   ]
  },
  {
   "cell_type": "code",
   "execution_count": 78,
   "id": "6c77882d-88ce-4dec-bab6-27cda33b7033",
   "metadata": {},
   "outputs": [
    {
     "name": "stdout",
     "output_type": "stream",
     "text": [
      "34\n",
      "35\n",
      "36\n",
      "37\n",
      "38\n",
      "39\n",
      "40\n",
      "41\n",
      "42\n",
      "43\n"
     ]
    }
   ],
   "source": [
    "my_other_list=[31,32,33,34,35,36,37,38,39,40]\n",
    "for x in my_other_list: print(x+3)"
   ]
  },
  {
   "cell_type": "markdown",
   "id": "c7522d2c-6604-4462-98df-d722016b716d",
   "metadata": {},
   "source": [
    "This can be tricky to use...but try it!\n",
    "\n",
    "Lastly, we can write a \"for\" loop which iterates over a string. For example:"
   ]
  },
  {
   "cell_type": "code",
   "execution_count": 80,
   "id": "779d258a-5e97-4ae1-89a0-52ff7993773e",
   "metadata": {},
   "outputs": [
    {
     "name": "stdout",
     "output_type": "stream",
     "text": [
      "aaa\n",
      "p\n",
      "p\n",
      "l\n",
      "eeeeeee\n"
     ]
    }
   ],
   "source": [
    "for x in \"apple\": \n",
    "    if x==\"a\": print(3*x)\n",
    "    elif x==\"e\":print(7*x)\n",
    "    else: print(x)"
   ]
  }
 ],
 "metadata": {
  "kernelspec": {
   "display_name": "Python 3 (ipykernel)",
   "language": "python",
   "name": "python3"
  },
  "language_info": {
   "codemirror_mode": {
    "name": "ipython",
    "version": 3
   },
   "file_extension": ".py",
   "mimetype": "text/x-python",
   "name": "python",
   "nbconvert_exporter": "python",
   "pygments_lexer": "ipython3",
   "version": "3.11.7"
  }
 },
 "nbformat": 4,
 "nbformat_minor": 5
}
